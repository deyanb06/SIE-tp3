{
  "cells": [
    {
      "cell_type": "markdown",
      "metadata": {
        "id": "view-in-github",
        "colab_type": "text"
      },
      "source": [
        "<a href=\"https://colab.research.google.com/github/deyanb06/SIE-tp3/blob/main/stackoverflow_tag_prediction.ipynb\" target=\"_parent\"><img src=\"https://colab.research.google.com/assets/colab-badge.svg\" alt=\"Open In Colab\"/></a>"
      ]
    },
    {
      "cell_type": "code",
      "execution_count": 73,
      "id": "b89b882e",
      "metadata": {
        "colab": {
          "base_uri": "https://localhost:8080/"
        },
        "id": "b89b882e",
        "outputId": "53633508-2e7b-45eb-8410-0ae29eb4412d"
      },
      "outputs": [
        {
          "output_type": "stream",
          "name": "stderr",
          "text": [
            "[nltk_data] Downloading package stopwords to /root/nltk_data...\n",
            "[nltk_data]   Package stopwords is already up-to-date!\n"
          ]
        }
      ],
      "source": [
        "import nltk\n",
        "import pandas as pd\n",
        "import re\n",
        "from sklearn.feature_extraction.text import TfidfVectorizer\n",
        "from sklearn.model_selection import train_test_split\n",
        "from sklearn.linear_model import LogisticRegression\n",
        "from sklearn.metrics import accuracy_score, f1_score\n",
        "from sklearn.preprocessing import LabelEncoder\n",
        "nltk.download('stopwords')\n",
        "from nltk.corpus import stopwords\n"
      ]
    },
    {
      "cell_type": "code",
      "execution_count": null,
      "metadata": {
        "colab": {
          "base_uri": "https://localhost:8080/"
        },
        "id": "W9YB5ePKg5ln",
        "outputId": "859c500f-0c8a-4e2f-bd98-8c260b3de9f3"
      },
      "outputs": [
        {
          "output_type": "stream",
          "name": "stdout",
          "text": [
            "Mounted at /content/drive\n"
          ]
        }
      ],
      "source": [
        "from google.colab import drive\n",
        "drive.mount('/content/drive', force_remount=True)"
      ],
      "id": "W9YB5ePKg5ln"
    },
    {
      "cell_type": "code",
      "execution_count": 74,
      "id": "dfbbeada",
      "metadata": {
        "id": "dfbbeada"
      },
      "outputs": [],
      "source": [
        "data =  pd.read_csv(\"drive/MyDrive/ML/stackoverflow_project/train.csv\")  # Update with the path to your dataset\n",
        "\n",
        "stopwords = set(stopwords.words('english'))\n",
        "\n",
        "# Regular expression to match a string of repeated characters\n",
        "repeated_char_pattern = re.compile(r'(.)\\1+')\n",
        "replace_space = re.compile('[/(){}\\[\\]\\|@,;]')\n",
        "bad_symbols = re.compile('[^a-z #+_]')\n",
        "\n",
        "# Function for basic text cleaning\n",
        "def clean_text(text):\n",
        "    text = re.sub(r'<.*?>', '', text)  # Remove HTML tags\n",
        "    text = replace_space.sub(' ', text)  # Remove special characters and numbers\n",
        "    text = bad_symbols.sub('', text) # delete symbols which are in bad_symbols from text\n",
        "    # text = repeated_char_pattern.sub('', text)\n",
        "    text = ' '.join(word for word in text.split() if word not in stopwords and not word.isnumeric()) # delete stopwords from text\n",
        "    return text\n",
        "\n",
        "data['cleaned'] = data['post'].apply(clean_text)\n",
        "# print(data['cleaned'])"
      ]
    },
    {
      "cell_type": "code",
      "source": [
        "print(data['cleaned'])"
      ],
      "metadata": {
        "colab": {
          "base_uri": "https://localhost:8080/"
        },
        "id": "7lBcUL4C-xO7",
        "outputId": "34550b45-7ddd-4930-8b50-c4efe97b940d"
      },
      "id": "7lBcUL4C-xO7",
      "execution_count": 68,
      "outputs": [
        {
          "output_type": "stream",
          "name": "stdout",
          "text": [
            "0        causing behavior c# datetime type test public ...\n",
            "1        dynamic html load iframe aspnet site users sav...\n",
            "2        convert float value minsec trying convert seco...\n",
            "3        net framework redistributable wondering get ne...\n",
            "4        trying calculate print mean returning rather n...\n",
            "                               ...                        \n",
            "27995    sql join multiple tables pivot trying inner jo...\n",
            "27996    simple sql query executing familiar mysql impr...\n",
            "27997    different output end function rather main func...\n",
            "27998    statego working # url appended end url login r...\n",
            "27999    understanding mechanisms intentservice trying ...\n",
            "Name: cleaned, Length: 28000, dtype: object\n"
          ]
        }
      ]
    },
    {
      "cell_type": "code",
      "execution_count": 78,
      "id": "86c20271",
      "metadata": {
        "id": "86c20271",
        "colab": {
          "base_uri": "https://localhost:8080/"
        },
        "outputId": "e4b6e5f1-42dc-4916-9553-0134dacdbe92"
      },
      "outputs": [
        {
          "output_type": "stream",
          "name": "stdout",
          "text": [
            "       __init__  __init__ self  __name__  _blank  _blank gt  _elem  \\\n",
            "0           0.0            0.0  0.000000     0.0        0.0    0.0   \n",
            "1           0.0            0.0  0.000000     0.0        0.0    0.0   \n",
            "2           0.0            0.0  0.000000     0.0        0.0    0.0   \n",
            "3           0.0            0.0  0.000000     0.0        0.0    0.0   \n",
            "4           0.0            0.0  0.080407     0.0        0.0    0.0   \n",
            "...         ...            ...       ...     ...        ...    ...   \n",
            "27995       0.0            0.0  0.000000     0.0        0.0    0.0   \n",
            "27996       0.0            0.0  0.000000     0.0        0.0    0.0   \n",
            "27997       0.0            0.0  0.000000     0.0        0.0    0.0   \n",
            "27998       0.0            0.0  0.000000     0.0        0.0    0.0   \n",
            "27999       0.0            0.0  0.000000     0.0        0.0    0.0   \n",
            "\n",
            "       _elem _traitsgt  _files  _files file  _get  ...  ymd  youtube  yyyy  \\\n",
            "0                  0.0     0.0          0.0   0.0  ...  0.0      0.0   0.0   \n",
            "1                  0.0     0.0          0.0   0.0  ...  0.0      0.0   0.0   \n",
            "2                  0.0     0.0          0.0   0.0  ...  0.0      0.0   0.0   \n",
            "3                  0.0     0.0          0.0   0.0  ...  0.0      0.0   0.0   \n",
            "4                  0.0     0.0          0.0   0.0  ...  0.0      0.0   0.0   \n",
            "...                ...     ...          ...   ...  ...  ...      ...   ...   \n",
            "27995              0.0     0.0          0.0   0.0  ...  0.0      0.0   0.0   \n",
            "27996              0.0     0.0          0.0   0.0  ...  0.0      0.0   0.0   \n",
            "27997              0.0     0.0          0.0   0.0  ...  0.0      0.0   0.0   \n",
            "27998              0.0     0.0          0.0   0.0  ...  0.0      0.0   0.0   \n",
            "27999              0.0     0.0          0.0   0.0  ...  0.0      0.0   0.0   \n",
            "\n",
            "       zero  zindex  zip  zone  zoom  zygoteinitjava  \\\n",
            "0       0.0     0.0  0.0   0.0   0.0             0.0   \n",
            "1       0.0     0.0  0.0   0.0   0.0             0.0   \n",
            "2       0.0     0.0  0.0   0.0   0.0             0.0   \n",
            "3       0.0     0.0  0.0   0.0   0.0             0.0   \n",
            "4       0.0     0.0  0.0   0.0   0.0             0.0   \n",
            "...     ...     ...  ...   ...   ...             ...   \n",
            "27995   0.0     0.0  0.0   0.0   0.0             0.0   \n",
            "27996   0.0     0.0  0.0   0.0   0.0             0.0   \n",
            "27997   0.0     0.0  0.0   0.0   0.0             0.0   \n",
            "27998   0.0     0.0  0.0   0.0   0.0             0.0   \n",
            "27999   0.0     0.0  0.0   0.0   0.0             0.0   \n",
            "\n",
            "       zygoteinitjava androidruntime  \n",
            "0                                0.0  \n",
            "1                                0.0  \n",
            "2                                0.0  \n",
            "3                                0.0  \n",
            "4                                0.0  \n",
            "...                              ...  \n",
            "27995                            0.0  \n",
            "27996                            0.0  \n",
            "27997                            0.0  \n",
            "27998                            0.0  \n",
            "27999                            0.0  \n",
            "\n",
            "[28000 rows x 5000 columns]\n"
          ]
        }
      ],
      "source": [
        "\n",
        "# TF-IDF Vectorization\n",
        "tfidf = TfidfVectorizer(max_features=5000, stop_words='english', ngram_range=(1, 2))\n",
        "tfidf_matrix = tfidf.fit_transform(data['cleaned'])\n",
        "count_array = tfidf_matrix.toarray()\n",
        "df = pd.DataFrame(data=count_array,columns = tfidf.get_feature_names_out())\n",
        "print(df)\n",
        "\n",
        "# # Encode the tags\n",
        "# label_encoder = LabelEncoder()\n",
        "# data['encoded_tags'] = label_encoder.fit_transform(data['tags'])\n",
        "\n",
        "# Split the dataset\n",
        "X_train, X_test, y_train, y_test = train_test_split(\n",
        "    data['cleaned'], data['tags'], test_size=0.3, random_state=42\n",
        ")\n"
      ]
    },
    {
      "cell_type": "code",
      "execution_count": 71,
      "id": "e6580478",
      "metadata": {
        "colab": {
          "base_uri": "https://localhost:8080/"
        },
        "id": "e6580478",
        "outputId": "7ad144d8-ceba-4529-bbb3-737830032cc2"
      },
      "outputs": [
        {
          "output_type": "stream",
          "name": "stdout",
          "text": [
            "[10  2 15 ...  6  4 10]\n",
            "Logistic Regression Model Accuracy: 79.05%\n",
            "Logistic Regression Model F1 Score: 0.79\n"
          ]
        }
      ],
      "source": [
        "\n",
        "# Train the Logistic Regression model\n",
        "lr_model = LogisticRegression(max_iter=1000)\n",
        "lr_model.fit(X_train, y_train)\n",
        "lr_predictions = lr_model.predict(X_test)\n",
        "print(lr_predictions)\n",
        "\n",
        "# Evaluate the model\n",
        "lr_accuracy = accuracy_score(y_test, lr_predictions)\n",
        "lr_f1 = f1_score(y_test, lr_predictions, average='weighted')\n",
        "\n",
        "print(f\"Logistic Regression Model Accuracy: {lr_accuracy * 100:.2f}%\")\n",
        "print(f\"Logistic Regression Model F1 Score: {lr_f1:.2f}\")\n"
      ]
    },
    {
      "cell_type": "code",
      "source": [
        "from sklearn.pipeline import Pipeline\n",
        "from sklearn.naive_bayes import MultinomialNB\n",
        "from sklearn.feature_extraction.text import TfidfVectorizer\n",
        "\n",
        "naive_bayes = Pipeline([(\"tfidf\", TfidfVectorizer()),\n",
        "                       (\"naivebayes\", MultinomialNB())])\n",
        "naive_bayes.fit(X_train, y_train)\n",
        "\n",
        "# accuracy of naive bayes classifier\n",
        "print(naive_bayes.score(X_train, y_train))\n",
        "print(naive_bayes.score(X_test, y_test))"
      ],
      "metadata": {
        "colab": {
          "base_uri": "https://localhost:8080/"
        },
        "id": "ClyZ4Tsw_5h6",
        "outputId": "7dcc6bb7-6eed-48b9-eead-7658de4a8ea2"
      },
      "id": "ClyZ4Tsw_5h6",
      "execution_count": 79,
      "outputs": [
        {
          "output_type": "stream",
          "name": "stdout",
          "text": [
            "0.8837244897959183\n",
            "0.7348809523809524\n"
          ]
        }
      ]
    },
    {
      "cell_type": "code",
      "source": [
        "from sklearn.linear_model import LogisticRegression\n",
        "from sklearn.feature_extraction.text import TfidfTransformer # for term-frequency-inverse document-frequency transformation\n",
        "\n",
        "logit_regr = Pipeline([(\"vect\", TfidfVectorizer()),\n",
        "                       # works better with tfid without the need to increase max_iter\n",
        "                       #(\"tfid\", TfidfTransformer()),\n",
        "                       (\"logit\", LogisticRegression(multi_class=\"multinomial\", solver = \"sag\", max_iter=50))])\n",
        "logit_regr.fit(X_train, y_train)\n",
        "\n",
        "# accuracy of logistic regression\n",
        "print('unprocessed:\\n')\n",
        "print(logit_regr.score(X_train, y_train))\n",
        "print(logit_regr.score(X_test, y_test))"
      ],
      "metadata": {
        "colab": {
          "base_uri": "https://localhost:8080/"
        },
        "id": "7mwLp-f4BFc8",
        "outputId": "8b981f24-11f7-4fc6-ead7-615232a94062"
      },
      "id": "7mwLp-f4BFc8",
      "execution_count": 81,
      "outputs": [
        {
          "output_type": "stream",
          "name": "stdout",
          "text": [
            "unprocessed:\n",
            "\n",
            "0.9139795918367347\n",
            "0.7935714285714286\n"
          ]
        }
      ]
    },
    {
      "cell_type": "code",
      "source": [
        "test =  pd.read_csv(\"drive/MyDrive/ML/stackoverflow_project/test.csv\")\n",
        "pred = test.drop('post', axis=1)\n",
        "pred.info()\n",
        "# pred = pred.drop([['post']])\n",
        "pred['tags'] = logit_regr.predict(test['post'])"
      ],
      "metadata": {
        "colab": {
          "base_uri": "https://localhost:8080/"
        },
        "id": "ivd9r00NBXLZ",
        "outputId": "609c3358-bce2-4055-bc00-84196ee431f5"
      },
      "id": "ivd9r00NBXLZ",
      "execution_count": 108,
      "outputs": [
        {
          "output_type": "stream",
          "name": "stdout",
          "text": [
            "<class 'pandas.core.frame.DataFrame'>\n",
            "RangeIndex: 12000 entries, 0 to 11999\n",
            "Data columns (total 1 columns):\n",
            " #   Column  Non-Null Count  Dtype\n",
            "---  ------  --------------  -----\n",
            " 0   Id      12000 non-null  int64\n",
            "dtypes: int64(1)\n",
            "memory usage: 93.9 KB\n"
          ]
        }
      ]
    },
    {
      "cell_type": "code",
      "source": [
        "csv_file_path = 'drive/MyDrive/ML/stackoverflow_project/output.csv'\n",
        "pred.to_csv(csv_file_path, index=False)  # Set index=False to not write row indices\n",
        "print(pred)"
      ],
      "metadata": {
        "colab": {
          "base_uri": "https://localhost:8080/"
        },
        "id": "6H7uA4eaC0f2",
        "outputId": "705c054d-efce-431f-fbce-658a98b57979"
      },
      "id": "6H7uA4eaC0f2",
      "execution_count": 109,
      "outputs": [
        {
          "output_type": "stream",
          "name": "stdout",
          "text": [
            "          Id       tags\n",
            "0          2       html\n",
            "1         12     iphone\n",
            "2         13    asp.net\n",
            "3         19     iphone\n",
            "4         22  angularjs\n",
            "...      ...        ...\n",
            "11995  39972        php\n",
            "11996  39980       html\n",
            "11997  39984         c#\n",
            "11998  39988     python\n",
            "11999  40000    android\n",
            "\n",
            "[12000 rows x 2 columns]\n"
          ]
        }
      ]
    }
  ],
  "metadata": {
    "colab": {
      "provenance": [],
      "include_colab_link": true
    },
    "language_info": {
      "name": "python"
    },
    "kernelspec": {
      "name": "python3",
      "display_name": "Python 3"
    }
  },
  "nbformat": 4,
  "nbformat_minor": 5
}